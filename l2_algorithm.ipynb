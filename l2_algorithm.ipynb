{
 "cells": [
  {
   "cell_type": "markdown",
   "metadata": {},
   "source": [
    "# $\\mathcal{l}_2$ penalty method algorithm"
   ]
  },
  {
   "cell_type": "code",
   "execution_count": 1,
   "metadata": {},
   "outputs": [],
   "source": [
    "# References\n",
    "\n",
    "# norms_sqrd(S,X) - max(norms_sqrd(S,X))\n",
    "\n",
    "# beta = max(norms_sqrd)\n",
    "\n",
    "# V = s_x_list_norms(S,X)**2 - max(s_x_list_norms(S,X)**2)\n",
    "# max(0,V[5])"
   ]
  },
  {
   "cell_type": "code",
   "execution_count": 2,
   "metadata": {},
   "outputs": [],
   "source": [
    "import matplotlib.pyplot as plt\n",
    "import random\n",
    "import numpy as np\n",
    "import time"
   ]
  },
  {
   "cell_type": "code",
   "execution_count": 3,
   "metadata": {},
   "outputs": [],
   "source": [
    "FIELDSIZE = 100\n",
    "SCALE = 100"
   ]
  },
  {
   "cell_type": "code",
   "execution_count": 4,
   "metadata": {},
   "outputs": [],
   "source": [
    "S = np.array([random.random()*SCALE, random.random()*SCALE])\n",
    "X = np.array([ [ random.random()*SCALE, random.random()*SCALE ] for i in range(FIELDSIZE) ])"
   ]
  },
  {
   "cell_type": "code",
   "execution_count": 5,
   "metadata": {},
   "outputs": [
    {
     "data": {
      "image/png": "[encoded data removed]",
      "text/plain": [
       "<Figure size 432x288 with 1 Axes>"
      ]
     },
     "metadata": {
      "needs_background": "light"
     },
     "output_type": "display_data"
    }
   ],
   "source": [
    "x0 = [X[i][0] for i in range(FIELDSIZE)]\n",
    "x1 = [X[i][1] for i in range(FIELDSIZE)]\n",
    "plt.scatter(x0,x1, c = 'k')\n",
    "plt.scatter(S[0], S[1], c = 'y')\n",
    "plt.show()"
   ]
  },
  {
   "cell_type": "code",
   "execution_count": 6,
   "metadata": {},
   "outputs": [],
   "source": [
    "def s_x_list(s,x):\n",
    "    arr1 = []\n",
    "    for i in range(FIELDSIZE):\n",
    "        t1 = s - x[i]\n",
    "        arr1.append(t1)\n",
    "    return np.array(arr1)"
   ]
  },
  {
   "cell_type": "code",
   "execution_count": 7,
   "metadata": {},
   "outputs": [],
   "source": [
    "def norms_sqrd(s,x):\n",
    "    arr1 = []\n",
    "    for i in range(FIELDSIZE):\n",
    "        t1 = s - x[i]\n",
    "        t2 = np.array(t1)\n",
    "        t3 = np.linalg.norm(t2)**2\n",
    "        arr1.append(t3)\n",
    "    return np.array(arr1)"
   ]
  },
  {
   "cell_type": "code",
   "execution_count": 8,
   "metadata": {},
   "outputs": [],
   "source": [
    "def gradient_function(s,x,k,b):\n",
    "    N = norms_sqrd(s,x)\n",
    "    s_minus_x = s_x_list(s,x)\n",
    "    g_max = []\n",
    "    if  max(norms_sqrd(s,x)) < b: #update beta if its closer\n",
    "        b = max(norms_sqrd(s,x))\n",
    "    for i in range(FIELDSIZE):\n",
    "        g = N[i] - b\n",
    "        g_plus = max(0,g)\n",
    "        g_max.append(s_minus_x[i]*g_plus)\n",
    "    grad = 2*sum(s_minus_x) + 2*(k**2)*sum(g_max)\n",
    "    return grad"
   ]
  },
  {
   "cell_type": "code",
   "execution_count": 9,
   "metadata": {},
   "outputs": [],
   "source": [
    "def GD(s,x,k,b, step): return s - step*gradient_function(s,x,k,b)"
   ]
  },
  {
   "cell_type": "code",
   "execution_count": 10,
   "metadata": {},
   "outputs": [],
   "source": [
    "def Descent(s,x, EPSILON):\n",
    "    s0 = s\n",
    "#     print('s', s0)\n",
    "    k=1\n",
    "    beta = max(norms_sqrd(s0,x))\n",
    "#     print(\"beta\", beta)\n",
    "    s_list = [s0]\n",
    "    lam = 1 / np.max( np.linalg.svd( x @ x.T ) [1] ) # approximating Lipschitz constant with SVD (MATLAB ok)\n",
    "    theta = float(random.getrandbits(128)) # this should essentially be infinity\n",
    "#     print('lambda', lam)\n",
    "    s1 = GD(s0,x,k,beta,lam)\n",
    "#     print('s', s1)\n",
    "    s_list.append(s1)\n",
    "    norm_list = [np.linalg.norm(gradient_function(s1,x,k,beta))]\n",
    "    \n",
    "    k=2\n",
    "    while np.linalg.norm(gradient_function(s1,x,k,beta)) > EPSILON:\n",
    "#         print(\"point distance\", np.linalg.norm(s1 - s0))\n",
    "#         if max(norms_sqrd(s1,x)) < beta:\n",
    "#             beta = max(norms_sqrd(s1,x))\n",
    "#         print(\"beta\", beta)\n",
    "        old_lam = lam\n",
    "        min1 = np.sqrt(1 + theta)*old_lam\n",
    "#         print(\"min1\", min1)\n",
    "        min2 = np.linalg.norm(s1-s0)/(2*np.linalg.norm(gradient_function(s1, x, k, beta) - gradient_function(s0, x, k, beta) ))\n",
    "#         print(\"min2\", min2)\n",
    "        lam = np.min([min1, min2])\n",
    "#         print('lambda', lam)\n",
    "        theta = lam/old_lam\n",
    "        s0 = s1\n",
    "        s1 = GD(s0, x, k, beta, lam )\n",
    "#         print('s', s1)\n",
    "        s_list.append(s1)\n",
    "        norm_list.append(np.linalg.norm(gradient_function(s1,x,k,beta)))\n",
    "        k+=1\n",
    "    return np.array([s_list, norm_list])"
   ]
  },
  {
   "cell_type": "code",
   "execution_count": 11,
   "metadata": {
    "scrolled": false
   },
   "outputs": [
    {
     "name": "stderr",
     "output_type": "stream",
     "text": [
      "<ipython-input-10-a72f219129ba>:36: VisibleDeprecationWarning: Creating an ndarray from ragged nested sequences (which is a list-or-tuple of lists-or-tuples-or ndarrays with different lengths or shapes) is deprecated. If you meant to do this, you must specify 'dtype=object' when creating the ndarray\n",
      "  return np.array([s_list, norm_list])\n"
     ]
    }
   ],
   "source": [
    "TEST = Descent(S,X,1e-6)"
   ]
  },
  {
   "cell_type": "code",
   "execution_count": 12,
   "metadata": {},
   "outputs": [
    {
     "data": {
      "text/plain": [
       "34"
      ]
     },
     "execution_count": 12,
     "metadata": {},
     "output_type": "execute_result"
    }
   ],
   "source": [
    "len(TEST[1])"
   ]
  },
  {
   "cell_type": "code",
   "execution_count": 13,
   "metadata": {},
   "outputs": [],
   "source": [
    "test0 = [TEST[0][i][0] for i in range(len(TEST[0]))]\n",
    "test1 = [TEST[0][i][1] for i in range(len(TEST[0]))]"
   ]
  },
  {
   "cell_type": "code",
   "execution_count": 14,
   "metadata": {},
   "outputs": [
    {
     "data": {
      "image/png": "[encoded data removed]",
      "text/plain": [
       "<Figure size 432x288 with 1 Axes>"
      ]
     },
     "metadata": {
      "needs_background": "light"
     },
     "output_type": "display_data"
    }
   ],
   "source": [
    "x0 = [X[i][0] for i in range(FIELDSIZE)]\n",
    "x1 = [X[i][1] for i in range(FIELDSIZE)]\n",
    "plt.scatter(x0,x1, c = 'k')\n",
    "plt.scatter(test0[0], test1[1], c = 'y')\n",
    "plt.plot(test0, test1, c = 'y')\n",
    "plt.scatter(test0[-1], test1[-1], c = 'y')\n",
    "plt.show()"
   ]
  },
  {
   "cell_type": "code",
   "execution_count": null,
   "metadata": {},
   "outputs": [],
   "source": []
  }
 ],
 "metadata": {
  "kernelspec": {
   "display_name": "Python 3",
   "language": "python",
   "name": "python3"
  },
  "language_info": {
   "codemirror_mode": {
    "name": "ipython",
    "version": 3
   },
   "file_extension": ".py",
   "mimetype": "text/x-python",
   "name": "python",
   "nbconvert_exporter": "python",
   "pygments_lexer": "ipython3",
   "version": "3.8.6"
  }
 },
 "nbformat": 4,
 "nbformat_minor": 4
}
