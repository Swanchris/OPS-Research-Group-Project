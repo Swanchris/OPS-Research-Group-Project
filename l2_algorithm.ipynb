{
 "cells": [
  {
   "cell_type": "markdown",
   "metadata": {},
   "source": [
    "# $\\mathcal{l}_2$ penalty method algorithm"
   ]
  },
  {
   "cell_type": "code",
   "execution_count": 23,
   "metadata": {},
   "outputs": [],
   "source": [
    "# References\n",
    "\n",
    "# norms_sqrd(S,X) - max(norms_sqrd(S,X))\n",
    "\n",
    "# beta = max(norms_sqrd)\n",
    "\n",
    "# V = s_x_list_norms(S,X)**2 - max(s_x_list_norms(S,X)**2)\n",
    "# max(0,V[5])"
   ]
  },
  {
   "cell_type": "code",
   "execution_count": 24,
   "metadata": {},
   "outputs": [],
   "source": [
    "import matplotlib.pyplot as plt\n",
    "import random\n",
    "import numpy as np\n",
    "import time\n",
    "import sklearn.datasets\n",
    "from math import pi, sin, cos"
   ]
  },
  {
   "cell_type": "code",
   "execution_count": 25,
   "metadata": {},
   "outputs": [],
   "source": [
    "#no. of sensors\n",
    "FIELDSIZE = 100\n",
    "#sensor location range\n",
    "SCALE = 100\n",
    "#lambda for poisson distr.\n",
    "LAM = 50"
   ]
  },
  {
   "cell_type": "code",
   "execution_count": 26,
   "metadata": {},
   "outputs": [],
   "source": [
    "from math import pi, cos, sin\n",
    "#generate random points on the circumference of a circle\n",
    "def point(h, k, r):\n",
    "    theta = random.random() * 2 * pi\n",
    "    return (h + cos(theta) * r, k + sin(theta) * r)"
   ]
  },
  {
   "cell_type": "code",
   "execution_count": 27,
   "metadata": {},
   "outputs": [],
   "source": [
    "centers = [point(50,50,50) for _ in range(8)]"
   ]
  },
  {
   "cell_type": "code",
   "execution_count": 37,
   "metadata": {},
   "outputs": [],
   "source": [
    "#generate a set of sensors, X generated randomly and a random starting point, S\n",
    "S = np.array([random.random()*SCALE, random.random()*SCALE])\n",
    "\n",
    "#X uniform\n",
    "#X = np.array([ [ random.random()*SCALE, random.random()*SCALE ] for i in range(FIELDSIZE) ])\n",
    "\n",
    "#X Poisson\n",
    "#X = np.random.poisson(LAM, (FIELDSIZE, 2))\n",
    "\n",
    "# generate random points on the circumference of a circle\n",
    "X = np.array([point(50,50,50) for _ in range(100)])\n",
    "\n",
    "#X blobs\n",
    "#X = sklearn.datasets.make_blobs(n_samples=FIELDSIZE, centers = centers, cluster_std = 3)\n",
    "#X = X[0]"
   ]
  },
  {
   "cell_type": "code",
   "execution_count": 38,
   "metadata": {},
   "outputs": [
    {
     "data": {
      "image/png": "[encoded data removed]",
      "text/plain": [
       "<Figure size 432x288 with 1 Axes>"
      ]
     },
     "metadata": {
      "needs_background": "light"
     },
     "output_type": "display_data"
    }
   ],
   "source": [
    "x0 = [X[i][0] for i in range(FIELDSIZE)]\n",
    "x1 = [X[i][1] for i in range(FIELDSIZE)]\n",
    "plt.scatter(x0,x1, c = 'k')\n",
    "plt.scatter(S[0], S[1], c = 'y')\n",
    "plt.show()"
   ]
  },
  {
   "cell_type": "code",
   "execution_count": 39,
   "metadata": {},
   "outputs": [],
   "source": [
    "def s_x_list(s,x):\n",
    "    arr1 = []\n",
    "    for i in range(FIELDSIZE):\n",
    "        t1 = s - x[i]\n",
    "        arr1.append(t1)\n",
    "    return np.array(arr1)"
   ]
  },
  {
   "cell_type": "code",
   "execution_count": 40,
   "metadata": {},
   "outputs": [],
   "source": [
    "def norms_sqrd(s,x):\n",
    "    arr1 = []\n",
    "    for i in range(FIELDSIZE):\n",
    "        t1 = s - x[i]\n",
    "        t2 = np.array(t1)\n",
    "        t3 = np.linalg.norm(t2)**2\n",
    "        arr1.append(t3)\n",
    "    return np.array(arr1)"
   ]
  },
  {
   "cell_type": "code",
   "execution_count": 41,
   "metadata": {},
   "outputs": [],
   "source": [
    "def gradient_function(s,x,k,b):\n",
    "    N = norms_sqrd(s,x)\n",
    "    s_minus_x = s_x_list(s,x)\n",
    "    g_max = []\n",
    "    if  max(norms_sqrd(s,x)) < b: #update beta if its closer\n",
    "        b = max(norms_sqrd(s,x))\n",
    "    for i in range(FIELDSIZE):\n",
    "        g = N[i] - b\n",
    "        g_plus = max(0,g)\n",
    "        g_max.append(s_minus_x[i]*g_plus)\n",
    "    grad = 2*sum(s_minus_x) + 2*(k**2)*sum(g_max)\n",
    "    return grad"
   ]
  },
  {
   "cell_type": "code",
   "execution_count": 42,
   "metadata": {},
   "outputs": [],
   "source": [
    "def GD(s,x,k,b, step): return s - step*gradient_function(s,x,k,b)"
   ]
  },
  {
   "cell_type": "code",
   "execution_count": 43,
   "metadata": {},
   "outputs": [],
   "source": [
    "def Descent(s,x, EPSILON):\n",
    "    t_start = time.time()\n",
    "    s0 = s\n",
    "#     print('s', s0)\n",
    "    k=1\n",
    "    \n",
    "    beta = max(norms_sqrd(s0,x))\n",
    "#     print(\"beta\", beta)\n",
    "    s_list = [s0]\n",
    "    lam = 1 / np.max( np.linalg.svd( x @ x.T ) [1] ) # approximating Lipschitz constant with SVD (MATLAB ok)\n",
    "    theta = float(random.getrandbits(128)) # this should essentially be infinity\n",
    "#     print('lambda', lam)\n",
    "    lam_list = [round(lam, 5)]\n",
    "\n",
    "    s1 = GD(s0,x,k,beta,lam)\n",
    "#     print('s', s1)\n",
    "    norm_list = [round(np.linalg.norm(gradient_function(s1,x,k,beta)), 3)]\n",
    "    time_list = [round(time.time() - t_start,5)]\n",
    "    k=2\n",
    "    \n",
    "    while np.linalg.norm(gradient_function(s1,x,k,beta)) > EPSILON:\n",
    "        t1_start = time.time()\n",
    "#         print(\"point distance\", np.linalg.norm(s1 - s0))\n",
    "#         if max(norms_sqrd(s1,x)) < beta:\n",
    "#             beta = max(norms_sqrd(s1,x))\n",
    "#         print(\"beta\", beta)\n",
    "        old_lam = lam\n",
    "        min1 = np.sqrt(1 + theta)*old_lam\n",
    "#         print(\"min1\", min1)\n",
    "        min2 = np.linalg.norm(s1-s0)/(2*np.linalg.norm(gradient_function(s1, x, k, beta) - gradient_function(s0, x, k, beta) ))\n",
    "#         print(\"min2\", min2)\n",
    "        lam = np.min([min1, min2])\n",
    "#         print('lambda', lam)\n",
    "        theta = lam/old_lam\n",
    "        s0 = s1\n",
    "        s1 = GD(s0, x, k, beta, lam )\n",
    "#         print('s', s1)\n",
    "        s_list.append(s1)\n",
    "    \n",
    "        #add lam to lam_list\n",
    "        lam_list.append(round(lam, 5))\n",
    "        \n",
    "        #add norm of grad to norm_list\n",
    "        norm_list.append(round(np.linalg.norm(gradient_function(s1,x,k,beta)), 4))\n",
    "        k+=1\n",
    "        t1_end = time.time()\n",
    "        \n",
    "        #add calctime of iteration to time_list\n",
    "        iter_time = t1_end - t1_start\n",
    "        time_list.append(round(iter_time, 5))\n",
    "        \n",
    "    t_end = time.time()\n",
    "    #calculate total time of program\n",
    "    duration = [t_end-t_start]\n",
    "    \n",
    "    return np.array([s_list, norm_list, lam_list, time_list])"
   ]
  },
  {
   "cell_type": "code",
   "execution_count": 44,
   "metadata": {},
   "outputs": [],
   "source": [
    "import pandas as pd"
   ]
  },
  {
   "cell_type": "code",
   "execution_count": 45,
   "metadata": {
    "scrolled": false
   },
   "outputs": [
    {
     "name": "stderr",
     "output_type": "stream",
     "text": [
      "<ipython-input-43-32886d49c326>:56: VisibleDeprecationWarning: Creating an ndarray from ragged nested sequences (which is a list-or-tuple of lists-or-tuples-or ndarrays with different lengths or shapes) is deprecated. If you meant to do this, you must specify 'dtype=object' when creating the ndarray\n",
      "  return np.array([s_list, norm_list, lam_list, time_list])\n"
     ]
    }
   ],
   "source": [
    "TEST = Descent(S,X,1e-6)"
   ]
  },
  {
   "cell_type": "code",
   "execution_count": null,
   "metadata": {},
   "outputs": [],
   "source": []
  },
  {
   "cell_type": "code",
   "execution_count": 46,
   "metadata": {},
   "outputs": [],
   "source": [
    "#test0: x-coords of each step\n",
    "#test1: y-coords of each step\n",
    "test0 = [round(TEST[0][i][0], 3) for i in range(len(TEST[0]))]\n",
    "test1 = [round(TEST[0][i][1], 3) for i in range(len(TEST[0]))]\n",
    "\n",
    "coords = list(zip(test0, test1))\n",
    "\n",
    "testPD = pd.DataFrame({'coords': coords, 'norm':TEST[1], 'lambda':TEST[2], 'iter_time':TEST[3]})\n",
    "\n",
    "testPD.head(10)\n",
    "\n",
    "testPD.to_csv('tables/circle.txt',\n",
    "              sep = '&'\n",
    ")"
   ]
  },
  {
   "cell_type": "code",
   "execution_count": null,
   "metadata": {},
   "outputs": [],
   "source": []
  },
  {
   "cell_type": "code",
   "execution_count": 47,
   "metadata": {},
   "outputs": [],
   "source": [
    "#x0 = [X[i][0] for i in range(FIELDSIZE)]\n",
    "#x1 = [X[i][1] for i in range(FIELDSIZE)]\n",
    "#plt.scatter(x0,x1, c = 'k')\n",
    "#plt.scatter(test0[0], test1[0], c = 'y')\n",
    "#plt.plot(test0, test1, c = 'y')\n",
    "#plt.scatter(test0[-1], test1[-1], c = 'y')\n",
    "#plt.show()"
   ]
  },
  {
   "cell_type": "code",
   "execution_count": 48,
   "metadata": {},
   "outputs": [
    {
     "data": {
      "image/png": "[encoded data removed]",
      "text/plain": [
       "<Figure size 432x288 with 1 Axes>"
      ]
     },
     "metadata": {
      "needs_background": "light"
     },
     "output_type": "display_data"
    }
   ],
   "source": [
    "#Plot scatter plot of sensors\n",
    "x0 = [X[i][0] for i in range(FIELDSIZE)]\n",
    "x1 = [X[i][1] for i in range(FIELDSIZE)]\n",
    "\n",
    "#Plot each step k\n",
    "plt.scatter(x0,x1, c = 'k')\n",
    "for i in range(len(test0)-1):\n",
    "    \n",
    "\n",
    "    plt.scatter(test0[i], test1[i], c = 'y')\n",
    "    plt.plot(test0, test1, c = 'y')\n",
    "    plt.scatter(test0[i+1], test1[i+1], c = 'y')\n",
    "    i+=1\n",
    "plt.show()"
   ]
  },
  {
   "cell_type": "code",
   "execution_count": 49,
   "metadata": {},
   "outputs": [],
   "source": [
    "from matplotlib import cm\n",
    "from matplotlib.ticker import LinearLocator"
   ]
  },
  {
   "cell_type": "code",
   "execution_count": null,
   "metadata": {},
   "outputs": [],
   "source": []
  }
 ],
 "metadata": {
  "kernelspec": {
   "display_name": "Python 3",
   "language": "python",
   "name": "python3"
  },
  "language_info": {
   "codemirror_mode": {
    "name": "ipython",
    "version": 3
   },
   "file_extension": ".py",
   "mimetype": "text/x-python",
   "name": "python",
   "nbconvert_exporter": "python",
   "pygments_lexer": "ipython3",
   "version": "3.8.5"
  }
 },
 "nbformat": 4,
 "nbformat_minor": 4
}
