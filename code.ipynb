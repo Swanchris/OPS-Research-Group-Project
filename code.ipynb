{
 "cells": [
  {
   "cell_type": "markdown",
   "metadata": {},
   "source": [
    "# $\\mathcal{l}_2$ penalty method algorithm"
   ]
  },
  {
   "cell_type": "code",
   "execution_count": 1,
   "metadata": {},
   "outputs": [],
   "source": [
    "import matplotlib.pyplot as plt\n",
    "import random\n",
    "import numpy as np\n",
    "import time\n",
    "from copy import deepcopy\n"
   ]
  },
  {
   "cell_type": "code",
   "execution_count": 39,
   "metadata": {},
   "outputs": [],
   "source": [
    "def alpha(k): return 2**k\n",
    "def xplus(x): return max(x,0)\n",
    "def obj_func(x): return x[0]**2 + x[1]**2 + x[0] - x[1]\n",
    "def G(x): return np.array([1 -x[0], -x[1] ])\n",
    "def P(x,k): return obj_func(x) + (alpha(k)/2)*xplus(G(x)[0])**2 + (alpha(k)/2)*xplus(G(x)[1])**2\n",
    "def P_grad(x,k):\n",
    "    g1 = 2*x[0] + 1 - alpha(k)*xplus(1-x[0])\n",
    "    g2 = 2*x[1] - 1 - alpha(k)*xplus(-x[1])\n",
    "    return np.array( [ g1 , g2 ] )\n",
    "def Norm(x): return np.linalg.norm(x)\n",
    "def stepsize(x1, x0,k): # Barzilai-Borwein step-size (quasi-newton origin)\n",
    "    nom = np.dot(x1 - x0, P_grad(x1,k) - P_grad(x0,k))\n",
    "    denom = np.linalg.norm( P_grad(x1,k) - P_grad(x0,k) )**2\n",
    "    return nom/denom\n",
    "# Note: Direction is just steepest descent\n",
    "def GD(x, lam ,k):\n",
    "    return x - lam*P_grad(x,k)"
   ]
  },
  {
   "cell_type": "code",
   "execution_count": null,
   "metadata": {},
   "outputs": [],
   "source": [
    "def Descent(x,k, EPSILON):\n",
    "    x0 = np.array(x)\n",
    "    k = 1\n",
    "    x_list = [x0]\n",
    "    lam = random.random() + 1e-12\n",
    "    x1 = GD(x0, lam,k)\n",
    "    x_list.append(x1)\n",
    "    \n",
    "    \n",
    "    "
   ]
  },
  {
   "cell_type": "code",
   "execution_count": 63,
   "metadata": {
    "scrolled": true
   },
   "outputs": [
    {
     "name": "stdout",
     "output_type": "stream",
     "text": [
      "x: [5 5]\n",
      "Gradient [11  9]\n",
      "stepsize: 0.8208050707183439\n",
      "x: [-4.02885578 -2.38724564]\n",
      "Gradient [-17.11542311 -10.54898255]\n",
      "Squared Norm: 11.665831935683928\n",
      "stepsize: 0.33962966154213653\n",
      "x: [1.78404958 1.19550174]\n",
      "Gradient [4.56809916 1.39100347]\n",
      "k= 2\n",
      "Squared Norm: 6.82831951775667\n",
      "stepsize: 0.1899109468744791\n",
      "x: [0.91651754 0.93133495]\n",
      "Gradient [2.49910526 0.8626699 ]\n",
      "k= 3\n",
      "Squared Norm: 0.9068604778979921\n",
      "stepsize: 0.36744024445033624\n",
      "x: [0.12094495 0.61435531]\n",
      "Gradient [-5.79055048  0.22871062]\n",
      "k= 4\n",
      "Squared Norm: 0.8563946746811998\n",
      "stepsize: 0.056424886740392255\n",
      "x: [0.84448076 0.60145034]\n",
      "Gradient [0.20065367 0.20290068]\n",
      "k= 5\n",
      "Squared Norm: 0.7236508840587734\n",
      "stepsize: 0.029412282714217683\n",
      "x: [0.91176589 0.59548257]\n",
      "Gradient [4.02908139e-05 1.90965135e-01]\n",
      "k= 6\n",
      "Squared Norm: 0.0675492654103332\n",
      "stepsize: 0.015155017515508603\n",
      "x: [0.95455534 0.59258849]\n",
      "Gradient [0.00065266 0.18517698]\n",
      "k= 7\n",
      "Squared Norm: 0.04288721178836533\n",
      "stepsize: 0.007692840728916017\n",
      "x: [0.97692463 0.59116395]\n",
      "Gradient [0.0002015 0.1823279]\n",
      "k= 8\n",
      "Squared Norm: 0.022414596894841057\n",
      "stepsize: 0.003876089899970801\n",
      "x: [0.98837245 0.59045723]\n",
      "Gradient [9.21303712e-05 1.80914463e-01]\n",
      "k= 9\n",
      "Squared Norm: 0.011469616771286209\n",
      "stepsize: 0.0019455540299713769\n",
      "x: [0.99416351 0.59010525]\n",
      "Gradient [4.39679836e-05 1.80210505e-01]\n",
      "k= 10\n",
      "Squared Norm: 0.005801746271909242\n",
      "stepsize: 0.0009746658743445709\n",
      "x: [0.99707604 0.58992961]\n",
      "Gradient [2.14767059e-05 1.79859215e-01]\n",
      "k= 11\n",
      "Squared Norm: 0.002917826128459897\n",
      "stepsize: 0.00048780660717974574\n",
      "x: [0.99853659 0.58984187]\n",
      "Gradient [1.06132739e-05 1.79683742e-01]\n",
      "k= 12\n",
      "Squared Norm: 0.0014631790570561703\n",
      "stepsize: 0.000244021903430299\n",
      "x: [0.99926794 0.58979802]\n",
      "Gradient [5.27558278e-06 1.79596049e-01]\n",
      "k= 13\n",
      "Squared Norm: 0.0007326595271671365\n",
      "stepsize: 0.00012204062449548709\n",
      "x: [0.99963388 0.58977611]\n",
      "Gradient [2.63005480e-06 1.79552213e-01]\n",
      "k= 14\n",
      "Squared Norm: 0.0003665977027414427\n",
      "stepsize: 6.1027733297109785e-05\n",
      "x: [0.99981692 0.58976515]\n",
      "Gradient [1.31309591e-06 1.79530297e-01]\n",
      "k= 15\n",
      "Squared Norm: 0.0001833658912191109\n",
      "stepsize: 3.0515722267791496e-05\n",
      "x: [0.99990845 0.58975967]\n",
      "Gradient [6.56065163e-07 1.79519340e-01]\n",
      "k= 16\n",
      "Squared Norm: 9.169971246168896e-05\n",
      "stepsize: 1.5258325083323648e-05\n",
      "x: [0.99995423 0.58975693]\n",
      "Gradient [3.27915504e-07 1.79513862e-01]\n",
      "k= 17\n",
      "Squared Norm: 4.585404880566164e-05\n",
      "stepsize: 7.6292785345965715e-06\n",
      "x: [0.99997711 0.58975556]\n",
      "Gradient [1.63929815e-07 1.79511123e-01]\n",
      "k= 18\n",
      "Squared Norm: 2.2928072654206668e-05\n",
      "stepsize: 3.814668266229223e-06\n",
      "x: [0.99998856 0.58975488]\n",
      "Gradient [8.19570105e-08 1.79509753e-01]\n",
      "k= 19\n",
      "Squared Norm: 1.1464298403417668e-05\n",
      "stepsize: 1.9073413829345026e-06\n",
      "x: [0.99999428 0.58975453]\n",
      "Gradient [4.09637977e-08 1.79509068e-01]\n",
      "k= 20\n",
      "Squared Norm: 5.732214722460263e-06\n",
      "stepsize: 9.53672503933119e-07\n",
      "x: [0.99999714 0.58975436]\n",
      "Gradient [2.05000497e-08 1.79508726e-01]\n",
      "k= 21\n",
      "Squared Norm: 2.866123741682092e-06\n",
      "stepsize: 4.768367050843883e-07\n",
      "x: [0.99999857 0.58975428]\n",
      "Gradient [1.02472866e-08 1.79508555e-01]\n",
      "k= 22\n",
      "Squared Norm: 1.433065965939466e-06\n",
      "stepsize: 2.3841846582182157e-07\n",
      "x: [0.99999928 0.58975423]\n",
      "Gradient [5.12295895e-09 1.79508469e-01]\n",
      "k= 23\n",
      "Squared Norm: 7.165340067582051e-07\n"
     ]
    }
   ],
   "source": [
    "x0 = np.array([5,5])\n",
    "EPSILON = 1e-6\n",
    "k = 1\n",
    "# x0 = np.array([random.randrange(1,20), random.randrange(0,20)])\n",
    "print(\"x:\", x0)\n",
    "print(\"Gradient\", P_grad(x0,k))\n",
    "lam = random.random() + 1e-12\n",
    "print('stepsize:',lam)\n",
    "x1 = GD(x0, lam,k)\n",
    "print(\"x:\", x1)\n",
    "print(\"Gradient\", P_grad(x1,k))\n",
    "N = Norm(x1 - x0)\n",
    "print(\"Squared Norm:\",N)\n",
    "while N > EPSILON:\n",
    "    lam = stepsize(x1,x0, k)\n",
    "    print(\"stepsize:\", lam)\n",
    "    x0 = x1\n",
    "    x1 = GD(x0, lam, k)\n",
    "    print(\"x:\", x1)\n",
    "    print(\"Gradient\", P_grad(x1,k))\n",
    "    k += 1\n",
    "    print(\"k=\", k)\n",
    "    N = Norm(x1 - x0)\n",
    "    print(\"Squared Norm:\",N)"
   ]
  },
  {
   "cell_type": "code",
   "execution_count": 65,
   "metadata": {},
   "outputs": [
    {
     "data": {
      "text/plain": [
       "0.03222329044272399"
      ]
     },
     "execution_count": 65,
     "metadata": {},
     "output_type": "execute_result"
    }
   ],
   "source": [
    "Norm([5.12295895e-09, 1.79508469e-01])**2"
   ]
  },
  {
   "cell_type": "code",
   "execution_count": null,
   "metadata": {},
   "outputs": [],
   "source": []
  },
  {
   "cell_type": "code",
   "execution_count": null,
   "metadata": {},
   "outputs": [],
   "source": []
  },
  {
   "cell_type": "code",
   "execution_count": null,
   "metadata": {},
   "outputs": [],
   "source": []
  },
  {
   "cell_type": "code",
   "execution_count": null,
   "metadata": {},
   "outputs": [],
   "source": []
  },
  {
   "cell_type": "code",
   "execution_count": null,
   "metadata": {},
   "outputs": [],
   "source": []
  },
  {
   "cell_type": "code",
   "execution_count": null,
   "metadata": {},
   "outputs": [],
   "source": []
  },
  {
   "cell_type": "code",
   "execution_count": null,
   "metadata": {},
   "outputs": [],
   "source": []
  },
  {
   "cell_type": "code",
   "execution_count": null,
   "metadata": {},
   "outputs": [],
   "source": []
  },
  {
   "cell_type": "code",
   "execution_count": null,
   "metadata": {},
   "outputs": [],
   "source": []
  },
  {
   "cell_type": "code",
   "execution_count": null,
   "metadata": {},
   "outputs": [],
   "source": []
  },
  {
   "cell_type": "code",
   "execution_count": null,
   "metadata": {},
   "outputs": [],
   "source": []
  },
  {
   "cell_type": "code",
   "execution_count": null,
   "metadata": {},
   "outputs": [],
   "source": []
  },
  {
   "cell_type": "code",
   "execution_count": null,
   "metadata": {},
   "outputs": [],
   "source": []
  },
  {
   "cell_type": "markdown",
   "metadata": {},
   "source": [
    "# OLD CODE"
   ]
  },
  {
   "cell_type": "markdown",
   "metadata": {},
   "source": [
    "## Failed $\\log$ barrier penalty method algorithm"
   ]
  },
  {
   "cell_type": "code",
   "execution_count": null,
   "metadata": {},
   "outputs": [],
   "source": [
    "# testing\n",
    "def obj_func(x): return x[0]**2 + x[1]**2 + x[0] - x[1]"
   ]
  },
  {
   "cell_type": "code",
   "execution_count": null,
   "metadata": {},
   "outputs": [],
   "source": [
    "def Gs(x):\n",
    "    g1, g2 = 1 - x[0] , -x[1]\n",
    "    return np.array([g1,g2])"
   ]
  },
  {
   "cell_type": "code",
   "execution_count": null,
   "metadata": {},
   "outputs": [],
   "source": [
    "pre_lim_x_test = np.array([2,1.5])\n",
    "print(obj_func(pre_lim_x_test))\n",
    "Gs(pre_lim_x_test)"
   ]
  },
  {
   "cell_type": "code",
   "execution_count": null,
   "metadata": {},
   "outputs": [],
   "source": [
    "def P(x,k):\n",
    "    return obj_func(x) - (1/k)*np.log(-Gs(x))"
   ]
  },
  {
   "cell_type": "code",
   "execution_count": null,
   "metadata": {},
   "outputs": [],
   "source": [
    "(1/k)*np.log(Gs(x1))"
   ]
  },
  {
   "cell_type": "code",
   "execution_count": null,
   "metadata": {},
   "outputs": [],
   "source": [
    "def P_grad(x,k):\n",
    "    p1 = 2*x[0] + 1 + 1/(k*(1-x[0]))\n",
    "    p2 = 2*x[1] -1 + 1/(k*x[1])\n",
    "    return np.array([p1,p2])"
   ]
  },
  {
   "cell_type": "code",
   "execution_count": null,
   "metadata": {},
   "outputs": [],
   "source": [
    "P_grad(pre_lim_x_test,1)"
   ]
  },
  {
   "cell_type": "code",
   "execution_count": null,
   "metadata": {},
   "outputs": [],
   "source": [
    "def Norm(x): return np.linalg.norm(x)\n",
    "\n",
    "def stepsize(x1, x0,k):\n",
    "    nom = np.dot(x1 - x0, P_grad(x1,k) - P_grad(x0,k))\n",
    "    denom = np.linalg.norm( P_grad(x1,k) - P_grad(x0,k) )**2\n",
    "    return nom/denom\n",
    "\n",
    "def GD(x, lam ,k):\n",
    "    return x - lam*P_grad(x,k)"
   ]
  },
  {
   "cell_type": "code",
   "execution_count": null,
   "metadata": {},
   "outputs": [],
   "source": [
    "x = pre_lim_x_test\n",
    "EPSILON = 1e-3\n",
    "k = 1\n",
    "# x0 = np.array([random.randrange(1,20), random.randrange(0,20)])\n",
    "x0 = x\n",
    "print(\"x:\", x0)\n",
    "print(\"Gradient\", P_grad(x0,k))\n",
    "lam = random.random() + 1e-12\n"
   ]
  },
  {
   "cell_type": "code",
   "execution_count": null,
   "metadata": {},
   "outputs": [],
   "source": [
    "(1/k)*np.log(Gs(x0))"
   ]
  },
  {
   "cell_type": "code",
   "execution_count": null,
   "metadata": {},
   "outputs": [],
   "source": [
    "Gs(x0)"
   ]
  },
  {
   "cell_type": "code",
   "execution_count": null,
   "metadata": {},
   "outputs": [],
   "source": [
    "x1 = GD(x0, lam,k)\n",
    "print(\"x:\", x1)\n",
    "print(\"Gradient\", P_grad(x1,k))\n",
    "N = Norm(P_grad(x,k))\n",
    "print(\"Squared Norm:\",N)"
   ]
  },
  {
   "cell_type": "code",
   "execution_count": null,
   "metadata": {},
   "outputs": [],
   "source": [
    "Norm(P_grad([1.0000000001,0.0000000001],k))"
   ]
  },
  {
   "cell_type": "code",
   "execution_count": null,
   "metadata": {
    "scrolled": false
   },
   "outputs": [],
   "source": [
    "while N > EPSILON:\n",
    "    lam = stepsize(x1,x0, k)\n",
    "    print(\"stepsize:\", lam)\n",
    "    x0 = x1\n",
    "    x1 = GD(x0, lam, k)\n",
    "    print(\"x:\", x1)\n",
    "    print(\"Gradient\", P_grad(x1,k))\n",
    "    k += 1\n",
    "    N = Norm(P_grad(x,k))\n",
    "    print(\"Squared Norm:\",N)\n",
    "            \n",
    "           "
   ]
  },
  {
   "cell_type": "code",
   "execution_count": null,
   "metadata": {},
   "outputs": [],
   "source": [
    "k"
   ]
  },
  {
   "cell_type": "code",
   "execution_count": null,
   "metadata": {},
   "outputs": [],
   "source": []
  },
  {
   "cell_type": "code",
   "execution_count": null,
   "metadata": {},
   "outputs": [],
   "source": [
    "FIELDSIZE = 100\n",
    "NUM_X = 100\n",
    "\n",
    "X = []\n",
    "\n",
    "for i in range(FIELDSIZE):\n",
    "    x_i = np.array([random.randrange(-FIELDSIZE, FIELDSIZE), random.randrange(-FIELDSIZE, FIELDSIZE)])\n",
    "    X.append(x_i)"
   ]
  },
  {
   "cell_type": "code",
   "execution_count": null,
   "metadata": {},
   "outputs": [],
   "source": []
  },
  {
   "cell_type": "code",
   "execution_count": null,
   "metadata": {},
   "outputs": [],
   "source": []
  },
  {
   "cell_type": "code",
   "execution_count": null,
   "metadata": {},
   "outputs": [],
   "source": []
  },
  {
   "cell_type": "code",
   "execution_count": null,
   "metadata": {},
   "outputs": [],
   "source": []
  },
  {
   "cell_type": "code",
   "execution_count": null,
   "metadata": {},
   "outputs": [],
   "source": [
    "S = np.array([random.randrange(-FIELDSIZE, FIELDSIZE), random.randrange(-FIELDSIZE, FIELDSIZE)])\n",
    "S_data = [S]\n",
    "\n",
    "def norm(s, x):\n",
    "    return (s[0] - x[0])**2 + (s[1] - x[1])**2\n",
    "\n",
    "norms = []\n",
    "for x in X:\n",
    "    norms.append(norm(S,x))\n",
    "\n",
    "alpha_index = np.argmax(norms)\n",
    "alpha = norms[alpha_index]"
   ]
  },
  {
   "cell_type": "code",
   "execution_count": null,
   "metadata": {},
   "outputs": [],
   "source": [
    "alpha"
   ]
  },
  {
   "cell_type": "code",
   "execution_count": null,
   "metadata": {},
   "outputs": [],
   "source": [
    "sum(norms)"
   ]
  },
  {
   "cell_type": "code",
   "execution_count": null,
   "metadata": {},
   "outputs": [],
   "source": [
    "lambdas = [0]*len(X)\n",
    "\n",
    "def obj(s):\n",
    "    obj_norms = []\n",
    "    for x in X:\n",
    "        obj_norms.append(norm(S,x))\n",
    "    return sum(obj_norms) + alpha"
   ]
  },
  {
   "cell_type": "code",
   "execution_count": null,
   "metadata": {},
   "outputs": [],
   "source": [
    "def conditions(s):\n",
    "    g = [0]*len(X)\n",
    "    for i in range(len(X)):\n",
    "        g[i] = norm(s, X[i]) - alpha\n",
    "    return g"
   ]
  },
  {
   "cell_type": "code",
   "execution_count": null,
   "metadata": {},
   "outputs": [],
   "source": [
    "def lagrange(s):\n",
    "    G = conditions(s)\n",
    "    lambda_gs = [0]*len(X)\n",
    "    for i in range(len(X)):\n",
    "        lambda_gs[i] = lambdas[i]*G[i]\n",
    "    return obj(s) + sum(lambda_gs)"
   ]
  },
  {
   "cell_type": "code",
   "execution_count": null,
   "metadata": {},
   "outputs": [],
   "source": [
    "lagrange(S)"
   ]
  },
  {
   "cell_type": "code",
   "execution_count": null,
   "metadata": {},
   "outputs": [],
   "source": [
    "obj(S)"
   ]
  },
  {
   "cell_type": "code",
   "execution_count": null,
   "metadata": {},
   "outputs": [],
   "source": [
    "def grad_lagrange(s):\n",
    "    gradL = [0, 0]\n",
    "    for i in range(len(X)):\n",
    "        gradL[0] += 2*(1+lambdas[i])*(s[0]-X[i][0])\n",
    "        gradL[1] += 2*(1+lambdas[i])*(s[1]-X[i][1])\n",
    "    return np.array(gradL)"
   ]
  },
  {
   "cell_type": "code",
   "execution_count": null,
   "metadata": {},
   "outputs": [],
   "source": [
    "G = conditions(S)\n",
    "G[alpha_index]"
   ]
  },
  {
   "cell_type": "code",
   "execution_count": null,
   "metadata": {},
   "outputs": [],
   "source": [
    "def grad_gl(s):\n",
    "    gradgL = [0,0]\n",
    "    for i in range(len(X)):\n",
    "        gradgL[0] += 2*(s[0] - X[i][0])\n",
    "        gradgL[1] += 2*(s[1] - X[i][1])\n",
    "    return np.array(gradgL)"
   ]
  },
  {
   "cell_type": "code",
   "execution_count": null,
   "metadata": {},
   "outputs": [],
   "source": [
    "def Real_norm(s): return np.linalg.norm(s)"
   ]
  },
  {
   "cell_type": "code",
   "execution_count": null,
   "metadata": {},
   "outputs": [],
   "source": [
    "def step(lambdaa):\n",
    "    return lambdaa - STEPSIZE*grad_gl(S)"
   ]
  },
  {
   "cell_type": "code",
   "execution_count": null,
   "metadata": {},
   "outputs": [],
   "source": []
  },
  {
   "cell_type": "code",
   "execution_count": null,
   "metadata": {},
   "outputs": [],
   "source": [
    "def Backtrack(l1, l2):\n",
    "    STEPSIZE = np.dot(l2 - l1, 2*(S - ))"
   ]
  },
  {
   "cell_type": "code",
   "execution_count": null,
   "metadata": {},
   "outputs": [],
   "source": [
    "teste = []\n",
    "L1 = random.randrange(1e6)\n",
    "L2 = L1 - 5\n",
    "while Real_norm(grad_lagrange(S)) > 10:\n",
    "    STEPSIZE = Backtrack(L1, L2)\n",
    "    lambdas[alpha_index]  = step(lambdas[alpha_index])\n",
    "    teste.append(lambdas[alpha_index])"
   ]
  },
  {
   "cell_type": "code",
   "execution_count": null,
   "metadata": {},
   "outputs": [],
   "source": [
    "plt.plot(range(len(teste)), teste)\n",
    "plt.show"
   ]
  },
  {
   "cell_type": "code",
   "execution_count": null,
   "metadata": {},
   "outputs": [],
   "source": [
    "teste[-1]"
   ]
  },
  {
   "cell_type": "code",
   "execution_count": null,
   "metadata": {},
   "outputs": [],
   "source": [
    "teste[0]"
   ]
  },
  {
   "cell_type": "code",
   "execution_count": null,
   "metadata": {},
   "outputs": [],
   "source": [
    "Real_norm(S - np.array(grad_lagrange(S)))"
   ]
  },
  {
   "cell_type": "code",
   "execution_count": null,
   "metadata": {},
   "outputs": [],
   "source": [
    "grad_lagrange(S)"
   ]
  },
  {
   "cell_type": "code",
   "execution_count": null,
   "metadata": {},
   "outputs": [],
   "source": [
    "grad_lagrange(S - 10 * np.array(grad_lagrange(S)))"
   ]
  },
  {
   "cell_type": "code",
   "execution_count": null,
   "metadata": {},
   "outputs": [],
   "source": [
    "STEPSIZE"
   ]
  },
  {
   "cell_type": "code",
   "execution_count": null,
   "metadata": {},
   "outputs": [],
   "source": [
    "random.randrange(1e6)"
   ]
  },
  {
   "cell_type": "code",
   "execution_count": null,
   "metadata": {},
   "outputs": [],
   "source": []
  }
 ],
 "metadata": {
  "kernelspec": {
   "display_name": "Python 3",
   "language": "python",
   "name": "python3"
  },
  "language_info": {
   "codemirror_mode": {
    "name": "ipython",
    "version": 3
   },
   "file_extension": ".py",
   "mimetype": "text/x-python",
   "name": "python",
   "nbconvert_exporter": "python",
   "pygments_lexer": "ipython3",
   "version": "3.8.6"
  }
 },
 "nbformat": 4,
 "nbformat_minor": 4
}
