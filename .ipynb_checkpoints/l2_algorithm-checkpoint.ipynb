{
 "cells": [
  {
   "cell_type": "markdown",
   "metadata": {},
   "source": [
    "# $\\mathcal{l}_2$ penalty method algorithm"
   ]
  },
  {
   "cell_type": "code",
   "execution_count": 23,
   "metadata": {},
   "outputs": [],
   "source": [
    "# References\n",
    "\n",
    "# norms_sqrd(S,X) - max(norms_sqrd(S,X))\n",
    "\n",
    "# beta = max(norms_sqrd)\n",
    "\n",
    "# V = s_x_list_norms(S,X)**2 - max(s_x_list_norms(S,X)**2)\n",
    "# max(0,V[5])"
   ]
  },
  {
   "cell_type": "code",
   "execution_count": 1,
   "metadata": {},
   "outputs": [],
   "source": [
    "import matplotlib.pyplot as plt\n",
    "import random\n",
    "import numpy as np\n",
    "import time\n",
    "import sklearn.datasets\n",
    "from math import pi, sin, cos"
   ]
  },
  {
   "cell_type": "code",
   "execution_count": 3,
   "metadata": {},
   "outputs": [],
   "source": [
    "#no. of sensors\n",
    "FIELDSIZE = 100\n",
    "#sensor location range\n",
    "SCALE = 1000\n",
    "#lambda for poisson distr.\n",
    "# LAM = 50"
   ]
  },
  {
   "cell_type": "code",
   "execution_count": 3,
   "metadata": {},
   "outputs": [],
   "source": [
    "from math import pi, cos, sin\n",
    "#generate random points on the circumference of a circle\n",
    "def point(h, k, r):\n",
    "    theta = random.random() * 2 * pi\n",
    "    return (h + cos(theta) * r, k + sin(theta) * r)"
   ]
  },
  {
   "cell_type": "code",
   "execution_count": 4,
   "metadata": {},
   "outputs": [],
   "source": [
    "centers = [point(50,50,50) for _ in range(8)]"
   ]
  },
  {
   "cell_type": "code",
   "execution_count": 4,
   "metadata": {},
   "outputs": [],
   "source": [
    "#generate a set of sensors, X generated randomly and a random starting point, S\n",
    "S = np.array([random.random()*SCALE, random.random()*SCALE])\n",
    "\n",
    "#X uniform\n",
    "X = np.array([ [ random.random()*SCALE, random.random()*SCALE ] for i in range(FIELDSIZE) ])\n",
    "\n",
    "#X Poisson\n",
    "#X = np.random.poisson(LAM, (FIELDSIZE, 2))\n",
    "\n",
    "# generate random points on the circumference of a circle\n",
    "# X = np.array([point(FIELDSIZE,FIELDSIZE,FIELDSIZE) for _ in range(FIELDSIZE)])\n",
    "\n",
    "#X blobs\n",
    "#X = sklearn.datasets.make_blobs(n_samples=FIELDSIZE, centers = centers, cluster_std = 3)\n",
    "#X = X[0]"
   ]
  },
  {
   "cell_type": "code",
   "execution_count": 5,
   "metadata": {},
   "outputs": [
    {
     "data": {
      "image/png": "[encoded data removed]",
      "text/plain": [
       "<Figure size 432x288 with 1 Axes>"
      ]
     },
     "metadata": {
      "needs_background": "light"
     },
     "output_type": "display_data"
    }
   ],
   "source": [
    "x0 = [X[i][0] for i in range(FIELDSIZE)]\n",
    "x1 = [X[i][1] for i in range(FIELDSIZE)]\n",
    "plt.scatter(x0,x1, c = 'k')\n",
    "plt.scatter(S[0], S[1], c = 'y')\n",
    "plt.show()"
   ]
  },
  {
   "cell_type": "code",
   "execution_count": 6,
   "metadata": {},
   "outputs": [],
   "source": [
    "def s_x_list(s,x):\n",
    "    arr1 = []\n",
    "    for i in range(FIELDSIZE):\n",
    "        t1 = s - x[i]\n",
    "        arr1.append(t1)\n",
    "    return np.array(arr1)"
   ]
  },
  {
   "cell_type": "code",
   "execution_count": 7,
   "metadata": {},
   "outputs": [],
   "source": [
    "def norms_sqrd(s,x):\n",
    "    arr1 = []\n",
    "    for i in range(FIELDSIZE):\n",
    "        t1 = s - x[i]\n",
    "        t2 = np.array(t1)\n",
    "        t3 = np.linalg.norm(t2)**2\n",
    "        arr1.append(t3)\n",
    "    return np.array(arr1)"
   ]
  },
  {
   "cell_type": "code",
   "execution_count": 8,
   "metadata": {},
   "outputs": [],
   "source": [
    "def gradient_function(s,x,k,b):\n",
    "    N = norms_sqrd(s,x)\n",
    "    s_minus_x = s_x_list(s,x)\n",
    "    g_max = []\n",
    "    if  max(norms_sqrd(s,x)) < b: #update beta if its closer\n",
    "        b = max(norms_sqrd(s,x))\n",
    "    for i in range(FIELDSIZE):\n",
    "        g = N[i] - b\n",
    "        g_plus = max(0,g)\n",
    "        g_max.append(s_minus_x[i]*g_plus)\n",
    "    grad = 2*sum(s_minus_x) + 2*(k**2)*sum(g_max)\n",
    "    return grad"
   ]
  },
  {
   "cell_type": "code",
   "execution_count": 24,
   "metadata": {},
   "outputs": [],
   "source": []
  },
  {
   "cell_type": "code",
   "execution_count": 14,
   "metadata": {},
   "outputs": [],
   "source": [
    "# Adaptive GD, Steepest Descent\n",
    "def GD(s,x,k,b, step): return s - step*gradient_function(s,x,k,b)\n",
    "def Descent(s,x, EPSILON):\n",
    "    \n",
    "    t_start = time.time()\n",
    "    s0 = s\n",
    "#     print('s', s0)\n",
    "    k=1\n",
    "    \n",
    "    beta = max(norms_sqrd(s0,x))\n",
    "#     print(\"beta\", beta)\n",
    "    s_list_adaptive = [s0]\n",
    "    grad_norm = np.linalg.norm(gradient_function(s0,x,k,beta))\n",
    "    norm_list_adaptive = [grad_norm]\n",
    "    time_list_adaptive =[time.time() - t_start]\n",
    "    lam = 1 / np.max( np.linalg.svd( x @ x.T ) [1] ) # approximating Lipschitz constant with SVD (MATLAB ok)\n",
    "    theta = float(random.getrandbits(128)) # this should essentially be infinity\n",
    "#     print('lambda', lam)\n",
    "#     lam_list_adaptive = [round(lam, 5)]\n",
    "\n",
    "    s1 = GD(s0,x,k,beta,lam)\n",
    "#     print('s', s1)\n",
    "    s_list_adaptive.append(s1)\n",
    "    grad_norm = np.linalg.norm(gradient_function(s1,x,k,beta))\n",
    "    norm_list_adaptive.append(grad_norm)\n",
    "    time_list_adaptive.append(time.time() - t_start)\n",
    "    k=2\n",
    "    \n",
    "    while grad_norm > EPSILON:\n",
    "        t1_start = time.time()\n",
    "#         print(\"point distance\", np.linalg.norm(s1 - s0))\n",
    "#         if max(norms_sqrd(s1,x)) < beta:\n",
    "#             beta = max(norms_sqrd(s1,x))\n",
    "#         print(\"beta\", beta)\n",
    "        old_lam = lam\n",
    "        min1 = np.sqrt(1 + theta)*old_lam\n",
    "#         print(\"min1\", min1)\n",
    "        min2 = np.linalg.norm(s1-s0)/(2*np.linalg.norm(gradient_function(s1, x, k, beta) - gradient_function(s0, x, k, beta) ))\n",
    "#         print(\"min2\", min2)\n",
    "        lam = np.min([min1, min2])\n",
    "#         print('lambda', lam)\n",
    "        theta = lam/old_lam\n",
    "        s0 = s1\n",
    "        s1 = GD(s0, x, k, beta, lam )\n",
    "#         print('s', s1)\n",
    "#         s_list.append(s1)\n",
    "        s_list_adaptive.append(s1)\n",
    "        grad_norm = np.linalg.norm(gradient_function(s1,x,k,beta))\n",
    "        norm_list_adaptive.append(grad_norm)\n",
    "        time_list_adaptive.append(time.time() - t_start)\n",
    "    \n",
    "        #add lam to lam_list\n",
    "#         lam_list.append(round(lam, 5))\n",
    "        \n",
    "        #add norm of grad to norm_list\n",
    "#         norm_list.append(round(np.linalg.norm(gradient_function(s1,x,k,beta)), 4))\n",
    "        \n",
    "        \n",
    "        k+=1\n",
    "#         t1_end = time.time()\n",
    "        \n",
    "        #add calctime of iteration to time_list\n",
    "#         iter_time = t1_end - t1_start\n",
    "#         time_list.append(round(iter_time, 5))\n",
    "        \n",
    "#     t_end = time.time()\n",
    "    #calculate total time of program\n",
    "#     duration = [t_end-t_start]\n",
    "    \n",
    "    return np.array([s_list_adaptive, norm_list_adaptive, time_list_adaptive])"
   ]
  },
  {
   "cell_type": "code",
   "execution_count": 15,
   "metadata": {},
   "outputs": [],
   "source": [
    "# import pandas as pd"
   ]
  },
  {
   "cell_type": "code",
   "execution_count": 16,
   "metadata": {
    "scrolled": false
   },
   "outputs": [
    {
     "name": "stderr",
     "output_type": "stream",
     "text": [
      "<ipython-input-14-ffbdea4441a6>:70: VisibleDeprecationWarning: Creating an ndarray from ragged nested sequences (which is a list-or-tuple of lists-or-tuples-or ndarrays with different lengths or shapes) is deprecated. If you meant to do this, you must specify 'dtype=object' when creating the ndarray\n",
      "  return np.array([s_list_adaptive, norm_list_adaptive, time_list_adaptive])\n"
     ]
    }
   ],
   "source": [
    "TEST = Descent(S,X,1e-6)"
   ]
  },
  {
   "cell_type": "code",
   "execution_count": 17,
   "metadata": {},
   "outputs": [
    {
     "data": {
      "text/plain": [
       "array([[array([140.68212411, 800.68294858]),\n",
       "        array([140.68336907, 800.68182494]),\n",
       "        array([316.16550268, 642.30123491]),\n",
       "        array([403.90656949, 563.11093989]),\n",
       "        array([447.77710289, 523.51579238]),\n",
       "        array([469.7123696 , 503.71821863]),\n",
       "        array([480.68000295, 493.81943175]),\n",
       "        array([486.16381962, 488.87003832]),\n",
       "        array([488.90572796, 486.3953416 ]),\n",
       "        array([490.27668213, 485.15799324]),\n",
       "        array([490.96215921, 484.53931906]),\n",
       "        array([491.30489775, 484.22998197]),\n",
       "        array([491.47626703, 484.07531342]),\n",
       "        array([491.56195166, 483.99797915]),\n",
       "        array([491.60479398, 483.95931201]),\n",
       "        array([491.62621514, 483.93997844]),\n",
       "        array([491.63692572, 483.93031166]),\n",
       "        array([491.64228101, 483.92547827]),\n",
       "        array([491.64495865, 483.92306157]),\n",
       "        array([491.64629747, 483.92185322]),\n",
       "        array([491.64696689, 483.92124905]),\n",
       "        array([491.64730159, 483.92094696]),\n",
       "        array([491.64746894, 483.92079592]),\n",
       "        array([491.64755262, 483.9207204 ]),\n",
       "        array([491.64759446, 483.92068264]),\n",
       "        array([491.64761538, 483.92066376]),\n",
       "        array([491.64762584, 483.92065432]),\n",
       "        array([491.64763107, 483.9206496 ]),\n",
       "        array([491.64763368, 483.92064724]),\n",
       "        array([491.64763499, 483.92064606]),\n",
       "        array([491.64763564, 483.92064547]),\n",
       "        array([491.64763597, 483.92064517]),\n",
       "        array([491.64763613, 483.92064502]),\n",
       "        array([491.64763622, 483.92064495]),\n",
       "        array([491.64763626, 483.92064491]),\n",
       "        array([491.64763628, 483.9206449 ]),\n",
       "        array([491.64763629, 483.92064489]),\n",
       "        array([491.64763629, 483.92064488]),\n",
       "        array([491.64763629, 483.92064488])],\n",
       "       [94554.77730765051, 94554.44189676706, 47277.22094913762,\n",
       "        23638.610474568824, 11819.305237284385, 5909.652618642202,\n",
       "        2954.826309321097, 1477.4131546605522, 738.7065773302763,\n",
       "        369.35328866513225, 184.6766443325624, 92.33832216628527,\n",
       "        46.16916108314024, 23.08458054156616, 11.542290270782628,\n",
       "        5.771145135390861, 2.8855725676959905, 1.442786283845601,\n",
       "        0.7213931419184745, 0.36069657096422697, 0.18034828548154308,\n",
       "        0.09017414273999268, 0.04508707136979572, 0.022543535680571852,\n",
       "        0.011271767842006036, 0.0056358839226190605,\n",
       "        0.0028179419553285034, 0.0014089709740134095,\n",
       "        0.0007044854892957659, 0.0003522427455122195,\n",
       "        0.00017612137721908545, 8.806068933942873e-05,\n",
       "        4.403034480738731e-05, 2.2015167773000328e-05,\n",
       "        1.1007581721884655e-05, 5.503794502485593e-06,\n",
       "        2.7518926205494607e-06, 1.375943840975614e-06,\n",
       "        6.879748003225432e-07],\n",
       "       [0.00742793083190918, 0.022307634353637695, 0.03326821327209473,\n",
       "        0.04512381553649902, 0.05608487129211426, 0.06699681282043457,\n",
       "        0.07790780067443848, 0.08931756019592285, 0.10516524314880371,\n",
       "        0.11658191680908203, 0.12798619270324707, 0.1393895149230957,\n",
       "        0.1498117446899414, 0.16171574592590332, 0.17262911796569824,\n",
       "        0.184035062789917, 0.1959385871887207, 0.20880365371704102,\n",
       "        0.22272872924804688, 0.23562288284301758, 0.2489790916442871,\n",
       "        0.2623729705810547, 0.2762594223022461, 0.2896862030029297,\n",
       "        0.30257296562194824, 0.3164360523223877, 0.3298637866973877,\n",
       "        0.34571385383605957, 0.36405253410339355, 0.378446102142334,\n",
       "        0.3903391361236572, 0.4037320613861084, 0.41712307929992676,\n",
       "        0.4310493469238281, 0.44440388679504395, 0.4568161964416504,\n",
       "        0.4692046642303467, 0.4811439514160156, 0.49304842948913574]],\n",
       "      dtype=object)"
      ]
     },
     "execution_count": 17,
     "metadata": {},
     "output_type": "execute_result"
    }
   ],
   "source": [
    "TEST"
   ]
  },
  {
   "cell_type": "code",
   "execution_count": 28,
   "metadata": {},
   "outputs": [],
   "source": [
    "# #test0: x-coords of each step\n",
    "# #test1: y-coords of each step\n",
    "# test0 = [TEST[0][i][0] for i in range(len(TEST[0]))]\n",
    "# test1 = [TEST[0][i][1] for i in range(len(TEST[0]))]\n",
    "\n",
    "# coords = list(zip(test0, test1))\n",
    "\n",
    "# testPD = pd.DataFrame({'coords': coords, 'norm':TEST[1], 'lambda':TEST[2], 'iter_time':TEST[3]})\n",
    "\n",
    "# testPD.head(10)\n",
    "\n",
    "# testPD.to_csv('tables/circle.txt',\n",
    "#               sep = '&'\n",
    "# )"
   ]
  },
  {
   "cell_type": "code",
   "execution_count": null,
   "metadata": {},
   "outputs": [],
   "source": []
  },
  {
   "cell_type": "code",
   "execution_count": 29,
   "metadata": {},
   "outputs": [],
   "source": [
    "#x0 = [X[i][0] for i in range(FIELDSIZE)]\n",
    "#x1 = [X[i][1] for i in range(FIELDSIZE)]\n",
    "#plt.scatter(x0,x1, c = 'k')\n",
    "#plt.scatter(test0[0], test1[0], c = 'y')\n",
    "#plt.plot(test0, test1, c = 'y')\n",
    "#plt.scatter(test0[-1], test1[-1], c = 'y')\n",
    "#plt.show()"
   ]
  },
  {
   "cell_type": "code",
   "execution_count": 32,
   "metadata": {},
   "outputs": [
    {
     "data": {
      "image/png": "[encoded data removed]",
      "text/plain": [
       "<Figure size 432x288 with 1 Axes>"
      ]
     },
     "metadata": {
      "needs_background": "light"
     },
     "output_type": "display_data"
    }
   ],
   "source": [
    "# #Plot scatter plot of sensors\n",
    "# x0 = [X[i][0] for i in range(FIELDSIZE)]\n",
    "# x1 = [X[i][1] for i in range(FIELDSIZE)]\n",
    "\n",
    "# #Plot each step k\n",
    "# plt.scatter(x0,x1, c = 'k')\n",
    "# for i in range(len(test0)-1):\n",
    "    \n",
    "\n",
    "#     plt.scatter(test0[i], test1[i], c = 'y')\n",
    "#     plt.plot(test0, test1, c = 'y')\n",
    "#     plt.scatter(test0[i+1], test1[i+1], c = 'y')\n",
    "#     i+=1\n",
    "# plt.savefig('circl2_2.png')\n",
    "# plt.show()\n"
   ]
  },
  {
   "cell_type": "code",
   "execution_count": 49,
   "metadata": {},
   "outputs": [],
   "source": [
    "# from matplotlib import cm\n",
    "# from matplotlib.ticker import LinearLocator"
   ]
  },
  {
   "cell_type": "code",
   "execution_count": 20,
   "metadata": {},
   "outputs": [],
   "source": [
    "def ren(x): return range(len(x))"
   ]
  },
  {
   "cell_type": "code",
   "execution_count": 28,
   "metadata": {},
   "outputs": [
    {
     "data": {
      "text/plain": [
       "array([94554.77730765051, 94554.44189676706, 47277.22094913762,\n",
       "       23638.610474568824, 11819.305237284385, 5909.652618642202,\n",
       "       2954.826309321097, 1477.4131546605522, 738.7065773302763,\n",
       "       369.35328866513225, 184.6766443325624, 92.33832216628527,\n",
       "       46.16916108314024, 23.08458054156616, 11.542290270782628,\n",
       "       5.771145135390861, 2.8855725676959905, 1.442786283845601,\n",
       "       0.7213931419184745, 0.36069657096422697, 0.18034828548154308,\n",
       "       0.09017414273999268, 0.04508707136979572, 0.022543535680571852,\n",
       "       0.011271767842006036, 0.0056358839226190605, 0.0028179419553285034,\n",
       "       0.0014089709740134095, 0.0007044854892957659,\n",
       "       0.0003522427455122195, 0.00017612137721908545,\n",
       "       8.806068933942873e-05, 4.403034480738731e-05,\n",
       "       2.2015167773000328e-05, 1.1007581721884655e-05,\n",
       "       5.503794502485593e-06, 2.7518926205494607e-06,\n",
       "       1.375943840975614e-06, 6.879748003225432e-07], dtype=object)"
      ]
     },
     "execution_count": 28,
     "metadata": {},
     "output_type": "execute_result"
    }
   ],
   "source": [
    "TEST[1]"
   ]
  },
  {
   "cell_type": "code",
   "execution_count": 29,
   "metadata": {},
   "outputs": [],
   "source": [
    "s_x_axis_adaptive = [TEST[0][i][0] for i in ren(TEST[0])]\n",
    "s_y_axis_adaptive = [TEST[0][i][1] for i in ren(TEST[0])]\n",
    "norm_adaptive = TEST[1]\n",
    "time_adaptive = TEST[2]"
   ]
  },
  {
   "cell_type": "markdown",
   "metadata": {},
   "source": [
    "Baz_bor algor"
   ]
  },
  {
   "cell_type": "code",
   "execution_count": null,
   "metadata": {},
   "outputs": [],
   "source": [
    "# Barzalai Borwein, BFGS\n",
    "def GD_(s,x,k,b, step): return s - step*gradient_function(s,x,k,b)\n",
    "def Descent(s,x, EPSILON):\n",
    "    \n",
    "    t_start = time.time()\n",
    "    s0 = s\n",
    "#     print('s', s0)\n",
    "    k=1\n",
    "    \n",
    "    beta = max(norms_sqrd(s0,x))\n",
    "#     print(\"beta\", beta)\n",
    "    s_list_adaptive = [s0]\n",
    "    grad_norm = np.linalg.norm(gradient_function(s0,x,k,beta))\n",
    "    norm_list_adaptive = [grad_norm]\n",
    "    time_list_adaptive =[time.time() - t_start]\n",
    "    lam = 1 / np.max( np.linalg.svd( x @ x.T ) [1] ) # approximating Lipschitz constant with SVD (MATLAB ok)\n",
    "    theta = float(random.getrandbits(128)) # this should essentially be infinity\n",
    "#     print('lambda', lam)\n",
    "#     lam_list_adaptive = [round(lam, 5)]\n",
    "\n",
    "    s1 = GD(s0,x,k,beta,lam)\n",
    "#     print('s', s1)\n",
    "    s_list_adaptive.append(s1)\n",
    "    grad_norm = np.linalg.norm(gradient_function(s1,x,k,beta))\n",
    "    norm_list_adaptive.append(grad_norm)\n",
    "    time_list_adaptive.append(time.time() - t_start)\n",
    "    k=2\n",
    "    \n",
    "    while grad_norm > EPSILON:\n",
    "        t1_start = time.time()\n",
    "#         print(\"point distance\", np.linalg.norm(s1 - s0))\n",
    "#         if max(norms_sqrd(s1,x)) < beta:\n",
    "#             beta = max(norms_sqrd(s1,x))\n",
    "#         print(\"beta\", beta)\n",
    "        old_lam = lam\n",
    "        min1 = np.sqrt(1 + theta)*old_lam\n",
    "#         print(\"min1\", min1)\n",
    "        min2 = np.linalg.norm(s1-s0)/(2*np.linalg.norm(gradient_function(s1, x, k, beta) - gradient_function(s0, x, k, beta) ))\n",
    "#         print(\"min2\", min2)\n",
    "        lam = np.min([min1, min2])\n",
    "#         print('lambda', lam)\n",
    "        theta = lam/old_lam\n",
    "        s0 = s1\n",
    "        s1 = GD(s0, x, k, beta, lam )\n",
    "#         print('s', s1)\n",
    "#         s_list.append(s1)\n",
    "        s_list_adaptive.append(s1)\n",
    "        grad_norm = np.linalg.norm(gradient_function(s1,x,k,beta))\n",
    "        norm_list_adaptive.append(grad_norm)\n",
    "        time_list_adaptive.append(time.time() - t_start)\n",
    "    \n",
    "        #add lam to lam_list\n",
    "#         lam_list.append(round(lam, 5))\n",
    "        \n",
    "        #add norm of grad to norm_list\n",
    "#         norm_list.append(round(np.linalg.norm(gradient_function(s1,x,k,beta)), 4))\n",
    "        \n",
    "        \n",
    "        k+=1\n",
    "#         t1_end = time.time()\n",
    "        \n",
    "        #add calctime of iteration to time_list\n",
    "#         iter_time = t1_end - t1_start\n",
    "#         time_list.append(round(iter_time, 5))\n",
    "        \n",
    "#     t_end = time.time()\n",
    "    #calculate total time of program\n",
    "#     duration = [t_end-t_start]\n",
    "    \n",
    "    return np.array([s_list_adaptive, norm_list_adaptive, time_list_adaptive])"
   ]
  }
 ],
 "metadata": {
  "kernelspec": {
   "display_name": "Python 3",
   "language": "python",
   "name": "python3"
  },
  "language_info": {
   "codemirror_mode": {
    "name": "ipython",
    "version": 3
   },
   "file_extension": ".py",
   "mimetype": "text/x-python",
   "name": "python",
   "nbconvert_exporter": "python",
   "pygments_lexer": "ipython3",
   "version": "3.8.6"
  }
 },
 "nbformat": 4,
 "nbformat_minor": 4
}
